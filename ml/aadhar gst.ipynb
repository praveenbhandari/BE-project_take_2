{
 "cells": [
  {
   "cell_type": "code",
   "execution_count": 1,
   "id": "aa327a20",
   "metadata": {},
   "outputs": [],
   "source": [
    "import random\n",
    "import pandas as pd\n"
   ]
  },
  {
   "cell_type": "code",
   "execution_count": 2,
   "id": "ee45fae1",
   "metadata": {},
   "outputs": [],
   "source": [
    "\n",
    "\n",
    "def genearte():\n",
    "    val=chr(random.randint(65,90))+chr(random.randint(65,90))+chr(random.randint(65,90))+'C'+chr(random.randint(65,90))+str(random.randint(1000,9999))+chr(random.randint(65,90))\n",
    "\n",
    "    def generate_num():\n",
    "        return str(random.randint(0,9))\n",
    "\n",
    "    def generate_2num():\n",
    "        val=str(random.randint(1,38))\n",
    "        if len(val)<2:\n",
    "            val='0'+val\n",
    "        return val\n",
    "        \n",
    "    def generate_names():\n",
    "        # List of possible first names\n",
    "        first_names = ['John', 'Jane', 'Bob', 'Sophie', 'Emily', 'Michael', 'Jessica', 'Jacob', 'Emily', 'Matthew', 'Amanda', 'Nicholas', 'Ashley', 'Andrew', 'Sarah', 'Brandon', 'Stephanie', 'Daniel', 'Lauren']\n",
    "\n",
    "        # List of possible last names\n",
    "        last_names = ['Smith', 'Doe', 'Johnson', 'Williams', 'Jones', 'Brown', 'Davis', 'Miller', 'Wilson', 'Moore', 'Taylor', 'Anderson', 'Thomas', 'Jackson', 'White', 'Harris', 'Martin', 'Thompson', 'Garcia']\n",
    "\n",
    "        # Create an empty list to hold the names\n",
    "        names=set()\n",
    "\n",
    "        first = random.choice(first_names)\n",
    "        last = random.choice(last_names)\n",
    "        name = first + \" \" + last\n",
    "        if name not in names:\n",
    "            names.add(name)\n",
    "        return name\n",
    "\n",
    "    return{\n",
    "        'Name':generate_names(),\n",
    "        'GST number':generate_2num()+val+generate_num()+'Z'+generate_num(),\n",
    "        'Aadhaar number':random.randint(100000000000,999999999999)\n",
    "    }\n",
    "\n"
   ]
  },
  {
   "cell_type": "code",
   "execution_count": 3,
   "id": "bfc6b7b5",
   "metadata": {},
   "outputs": [],
   "source": [
    "dataset=[genearte() for i in range(200)]\n",
    "\n",
    "df=pd.DataFrame(dataset)\n",
    "df.head()\n",
    "\n",
    "df.to_csv('dataset.csv')\n"
   ]
  }
 ],
 "metadata": {
  "kernelspec": {
   "display_name": "Python 3 (ipykernel)",
   "language": "python",
   "name": "python3"
  },
  "language_info": {
   "codemirror_mode": {
    "name": "ipython",
    "version": 3
   },
   "file_extension": ".py",
   "mimetype": "text/x-python",
   "name": "python",
   "nbconvert_exporter": "python",
   "pygments_lexer": "ipython3",
   "version": "3.9.7"
  }
 },
 "nbformat": 4,
 "nbformat_minor": 5
}
